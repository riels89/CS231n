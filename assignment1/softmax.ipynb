{
 "cells": [
  {
   "cell_type": "markdown",
   "metadata": {},
   "source": [
    "# Softmax exercise\n",
    "\n",
    "*Complete and hand in this completed worksheet (including its outputs and any supporting code outside of the worksheet) with your assignment submission. For more details see the [assignments page](http://vision.stanford.edu/teaching/cs231n/assignments.html) on the course website.*\n",
    "\n",
    "This exercise is analogous to the SVM exercise. You will:\n",
    "\n",
    "- implement a fully-vectorized **loss function** for the Softmax classifier\n",
    "- implement the fully-vectorized expression for its **analytic gradient**\n",
    "- **check your implementation** with numerical gradient\n",
    "- use a validation set to **tune the learning rate and regularization** strength\n",
    "- **optimize** the loss function with **SGD**\n",
    "- **visualize** the final learned weights\n"
   ]
  },
  {
   "cell_type": "code",
   "execution_count": 1,
   "metadata": {},
   "outputs": [],
   "source": [
    "import random\n",
    "import numpy as np\n",
    "from cs231n.data_utils import load_CIFAR10\n",
    "import matplotlib.pyplot as plt\n",
    "\n",
    "from __future__ import print_function\n",
    "\n",
    "%matplotlib inline\n",
    "plt.rcParams['figure.figsize'] = (10.0, 8.0) # set default size of plots\n",
    "plt.rcParams['image.interpolation'] = 'nearest'\n",
    "plt.rcParams['image.cmap'] = 'gray'\n",
    "\n",
    "# for auto-reloading extenrnal modules\n",
    "# see http://stackoverflow.com/questions/1907993/autoreload-of-modules-in-ipython\n",
    "%load_ext autoreload\n",
    "%autoreload 2"
   ]
  },
  {
   "cell_type": "code",
   "execution_count": 2,
   "metadata": {},
   "outputs": [
    {
     "name": "stdout",
     "output_type": "stream",
     "text": [
      "Train data shape:  (49000, 3073)\n",
      "Train labels shape:  (49000,)\n",
      "Validation data shape:  (1000, 3073)\n",
      "Validation labels shape:  (1000,)\n",
      "Test data shape:  (1000, 3073)\n",
      "Test labels shape:  (1000,)\n",
      "dev data shape:  (500, 3073)\n",
      "dev labels shape:  (500,)\n"
     ]
    }
   ],
   "source": [
    "def get_CIFAR10_data(num_training=49000, num_validation=1000, num_test=1000, num_dev=500):\n",
    "    \"\"\"\n",
    "    Load the CIFAR-10 dataset from disk and perform preprocessing to prepare\n",
    "    it for the linear classifier. These are the same steps as we used for the\n",
    "    SVM, but condensed to a single function.  \n",
    "    \"\"\"\n",
    "    # Load the raw CIFAR-10 data\n",
    "    cifar10_dir = 'cs231n/datasets/cifar-10-batches-py'\n",
    "    X_train, y_train, X_test, y_test = load_CIFAR10(cifar10_dir)\n",
    "    \n",
    "    # subsample the data\n",
    "    mask = list(range(num_training, num_training + num_validation))\n",
    "    X_val = X_train[mask]\n",
    "    y_val = y_train[mask]\n",
    "    mask = list(range(num_training))\n",
    "    X_train = X_train[mask]\n",
    "    y_train = y_train[mask]\n",
    "    mask = list(range(num_test))\n",
    "    X_test = X_test[mask]\n",
    "    y_test = y_test[mask]\n",
    "    mask = np.random.choice(num_training, num_dev, replace=False)\n",
    "    X_dev = X_train[mask]\n",
    "    y_dev = y_train[mask]\n",
    "    \n",
    "    # Preprocessing: reshape the image data into rows\n",
    "    X_train = np.reshape(X_train, (X_train.shape[0], -1))\n",
    "    X_val = np.reshape(X_val, (X_val.shape[0], -1))\n",
    "    X_test = np.reshape(X_test, (X_test.shape[0], -1))\n",
    "    X_dev = np.reshape(X_dev, (X_dev.shape[0], -1))\n",
    "    \n",
    "    # Normalize the data: subtract the mean image\n",
    "    mean_image = np.mean(X_train, axis = 0)\n",
    "    X_train -= mean_image\n",
    "    X_val -= mean_image\n",
    "    X_test -= mean_image\n",
    "    X_dev -= mean_image\n",
    "    \n",
    "    # add bias dimension and transform into columns\n",
    "    X_train = np.hstack([X_train, np.ones((X_train.shape[0], 1))])\n",
    "    X_val = np.hstack([X_val, np.ones((X_val.shape[0], 1))])\n",
    "    X_test = np.hstack([X_test, np.ones((X_test.shape[0], 1))])\n",
    "    X_dev = np.hstack([X_dev, np.ones((X_dev.shape[0], 1))])\n",
    "    \n",
    "    return X_train, y_train, X_val, y_val, X_test, y_test, X_dev, y_dev\n",
    "\n",
    "\n",
    "# Invoke the above function to get our data.\n",
    "X_train, y_train, X_val, y_val, X_test, y_test, X_dev, y_dev = get_CIFAR10_data()\n",
    "print('Train data shape: ', X_train.shape)\n",
    "print('Train labels shape: ', y_train.shape)\n",
    "print('Validation data shape: ', X_val.shape)\n",
    "print('Validation labels shape: ', y_val.shape)\n",
    "print('Test data shape: ', X_test.shape)\n",
    "print('Test labels shape: ', y_test.shape)\n",
    "print('dev data shape: ', X_dev.shape)\n",
    "print('dev labels shape: ', y_dev.shape)"
   ]
  },
  {
   "cell_type": "markdown",
   "metadata": {},
   "source": [
    "## Softmax Classifier\n",
    "\n",
    "Your code for this section will all be written inside **cs231n/classifiers/softmax.py**. \n"
   ]
  },
  {
   "cell_type": "code",
   "execution_count": 32,
   "metadata": {},
   "outputs": [
    {
     "name": "stdout",
     "output_type": "stream",
     "text": [
      "loss: 2.335691\n",
      "sanity check: 2.302585\n"
     ]
    }
   ],
   "source": [
    "# First implement the naive softmax loss function with nested loops.\n",
    "# Open the file cs231n/classifiers/softmax.py and implement the\n",
    "# softmax_loss_naive function.\n",
    "\n",
    "from cs231n.classifiers.softmax import softmax_loss_naive\n",
    "import time\n",
    "\n",
    "# Generate a random softmax weight matrix and use it to compute the loss.\n",
    "W = np.random.randn(3073, 10) * 0.0001\n",
    "loss, grad = softmax_loss_naive(W, X_dev, y_dev, 0.0)\n",
    "\n",
    "# As a rough sanity check, our loss should be something close to -log(0.1).\n",
    "print('loss: %f' % loss)\n",
    "print('sanity check: %f' % (-np.log(0.1)))"
   ]
  },
  {
   "cell_type": "markdown",
   "metadata": {},
   "source": [
    "## Inline Question 1:\n",
    "Why do we expect our loss to be close to -log(0.1)? Explain briefly.**\n",
    "\n",
    "**Your answer:** *Fill this in*\n"
   ]
  },
  {
   "cell_type": "code",
   "execution_count": 43,
   "metadata": {},
   "outputs": [
    {
     "name": "stdout",
     "output_type": "stream",
     "text": [
      "numerical: -0.755193 analytic: -0.755193, relative error: 3.310639e-08\n",
      "numerical: -0.576730 analytic: -0.576730, relative error: 1.423647e-08\n",
      "numerical: 1.616427 analytic: 1.616427, relative error: 1.533052e-08\n",
      "numerical: 0.102731 analytic: 0.102731, relative error: 2.506016e-07\n",
      "numerical: -1.409135 analytic: -1.409135, relative error: 5.420961e-09\n",
      "numerical: 1.403994 analytic: 1.403994, relative error: 1.620795e-08\n",
      "numerical: -4.484598 analytic: -4.484598, relative error: 3.724569e-09\n",
      "numerical: -4.158728 analytic: -4.158728, relative error: 2.356140e-09\n",
      "numerical: -2.777856 analytic: -2.777856, relative error: 4.107028e-09\n",
      "numerical: 0.667264 analytic: 0.667264, relative error: 5.336981e-08\n",
      "numerical: -0.765361 analytic: -0.763979, relative error: 9.036550e-04\n",
      "numerical: -0.360404 analytic: -0.362004, relative error: 2.214479e-03\n",
      "numerical: 1.350824 analytic: 1.352520, relative error: 6.274803e-04\n",
      "numerical: -0.511646 analytic: -0.513663, relative error: 1.967527e-03\n",
      "numerical: 0.913207 analytic: 0.918255, relative error: 2.755896e-03\n",
      "numerical: -3.219797 analytic: -3.223734, relative error: 6.109263e-04\n",
      "numerical: -1.942328 analytic: -1.940169, relative error: 5.560995e-04\n",
      "numerical: 0.042307 analytic: 0.042978, relative error: 7.873951e-03\n",
      "numerical: 0.415825 analytic: 0.416872, relative error: 1.258164e-03\n",
      "numerical: 1.186856 analytic: 1.193337, relative error: 2.723104e-03\n"
     ]
    }
   ],
   "source": [
    "# Complete the implementation of softmax_loss_naive and implement a (naive)\n",
    "# version of the gradient that uses nested loops.\n",
    "loss, grad = softmax_loss_naive(W, X_dev, y_dev, 0.0)\n",
    "\n",
    "# As we did for the SVM, use numeric gradient checking as a debugging tool.\n",
    "# The numeric gradient should be close to the analytic gradient.\n",
    "from cs231n.gradient_check import grad_check_sparse\n",
    "f = lambda w: softmax_loss_naive(w, X_dev, y_dev, 0.0)[0]\n",
    "grad_numerical = grad_check_sparse(f, W, grad, 10)\n",
    "\n",
    "# similar to SVM case, do another gradient check with regularization\n",
    "loss, grad = softmax_loss_naive(W, X_dev, y_dev, 5e1)\n",
    "f = lambda w: softmax_loss_naive(w, X_dev, y_dev, 5e1)[0]\n",
    "grad_numerical = grad_check_sparse(f, W, grad, 10)"
   ]
  },
  {
   "cell_type": "code",
   "execution_count": 90,
   "metadata": {},
   "outputs": [
    {
     "name": "stdout",
     "output_type": "stream",
     "text": [
      "naive loss: 2.335691e+00 computed in 0.145019s\n",
      "vectorized loss: 2.335691e+00 computed in 0.010001s\n",
      "Loss difference: 0.000000\n",
      "Gradient difference: 0.000000\n"
     ]
    }
   ],
   "source": [
    "# Now that we have a naive implementation of the softmax loss function and its gradient,\n",
    "# implement a vectorized version in softmax_loss_vectorized.\n",
    "# The two versions should compute the same results, but the vectorized version should be\n",
    "# much faster.\n",
    "tic = time.time()\n",
    "loss_naive, grad_naive = softmax_loss_naive(W, X_dev, y_dev, 0.000005)\n",
    "toc = time.time()\n",
    "print('naive loss: %e computed in %fs' % (loss_naive, toc - tic))\n",
    "\n",
    "from cs231n.classifiers.softmax import softmax_loss_vectorized\n",
    "tic = time.time()\n",
    "loss_vectorized, grad_vectorized = softmax_loss_vectorized(W, X_dev, y_dev, 0.000005)\n",
    "toc = time.time()\n",
    "print('vectorized loss: %e computed in %fs' % (loss_vectorized, toc - tic))\n",
    "\n",
    "# As we did for the SVM, we use the Frobenius norm to compare the two versions\n",
    "# of the gradient.\n",
    "grad_difference = np.linalg.norm(grad_naive - grad_vectorized, ord='fro')\n",
    "print('Loss difference: %f' % np.abs(loss_naive - loss_vectorized))\n",
    "print('Gradient difference: %f' % grad_difference)"
   ]
  },
  {
   "cell_type": "code",
   "execution_count": 95,
   "metadata": {},
   "outputs": [
    {
     "name": "stdout",
     "output_type": "stream",
     "text": [
      "iteration 0 / 1500: loss 781.157167\n",
      "iteration 100 / 1500: loss 471.202077\n",
      "iteration 200 / 1500: loss 285.673789\n",
      "iteration 300 / 1500: loss 173.610682\n",
      "iteration 400 / 1500: loss 106.002806\n",
      "iteration 500 / 1500: loss 64.931060\n",
      "iteration 600 / 1500: loss 40.024199\n",
      "iteration 700 / 1500: loss 25.192994\n",
      "iteration 800 / 1500: loss 16.080692\n",
      "iteration 900 / 1500: loss 10.528202\n",
      "iteration 1000 / 1500: loss 7.177566\n",
      "iteration 1100 / 1500: loss 5.158273\n",
      "iteration 1200 / 1500: loss 3.960360\n",
      "iteration 1300 / 1500: loss 3.261492\n",
      "iteration 1400 / 1500: loss 2.838138\n",
      "iteration 0 / 1500: loss 1539.972976\n",
      "iteration 100 / 1500: loss 563.980777\n",
      "iteration 200 / 1500: loss 207.821969\n",
      "iteration 300 / 1500: loss 77.422109\n",
      "iteration 400 / 1500: loss 29.706825\n",
      "iteration 500 / 1500: loss 12.333802\n",
      "iteration 600 / 1500: loss 5.863022\n",
      "iteration 700 / 1500: loss 3.511458\n",
      "iteration 800 / 1500: loss 2.634904\n",
      "iteration 900 / 1500: loss 2.339673\n",
      "iteration 1000 / 1500: loss 2.246897\n",
      "iteration 1100 / 1500: loss 2.281617\n",
      "iteration 1200 / 1500: loss 2.125832\n",
      "iteration 1300 / 1500: loss 2.150773\n",
      "iteration 1400 / 1500: loss 2.204528\n",
      "iteration 0 / 1500: loss 768.776981\n",
      "iteration 100 / 1500: loss 63.274723\n",
      "iteration 200 / 1500: loss 7.059121\n",
      "iteration 300 / 1500: loss 2.431791\n",
      "iteration 400 / 1500: loss 2.158455\n",
      "iteration 500 / 1500: loss 2.129995\n",
      "iteration 600 / 1500: loss 2.108132\n",
      "iteration 700 / 1500: loss 2.184111\n",
      "iteration 800 / 1500: loss 2.127947\n",
      "iteration 900 / 1500: loss 2.117449\n",
      "iteration 1000 / 1500: loss 2.114435\n",
      "iteration 1100 / 1500: loss 2.153842\n",
      "iteration 1200 / 1500: loss 2.063332\n",
      "iteration 1300 / 1500: loss 2.128425\n",
      "iteration 1400 / 1500: loss 2.112498\n",
      "iteration 0 / 1500: loss 1554.879261\n",
      "iteration 100 / 1500: loss 11.844457\n",
      "iteration 200 / 1500: loss 2.258714\n",
      "iteration 300 / 1500: loss 2.209466\n",
      "iteration 400 / 1500: loss 2.223107\n",
      "iteration 500 / 1500: loss 2.185298\n",
      "iteration 600 / 1500: loss 2.141907\n",
      "iteration 700 / 1500: loss 2.148976\n",
      "iteration 800 / 1500: loss 2.219377\n",
      "iteration 900 / 1500: loss 2.178616\n",
      "iteration 1000 / 1500: loss 2.193756\n",
      "iteration 1100 / 1500: loss 2.181067\n",
      "iteration 1200 / 1500: loss 2.152602\n",
      "iteration 1300 / 1500: loss 2.160830\n",
      "iteration 1400 / 1500: loss 2.232698\n",
      "lr 1.000000e-07 reg 2.500000e+04 train accuracy: 0.330918 val accuracy: 0.352000\n",
      "lr 1.000000e-07 reg 5.000000e+04 train accuracy: 0.330918 val accuracy: 0.352000\n",
      "lr 5.000000e-07 reg 2.500000e+04 train accuracy: 0.330918 val accuracy: 0.352000\n",
      "lr 5.000000e-07 reg 5.000000e+04 train accuracy: 0.330918 val accuracy: 0.352000\n",
      "best validation accuracy achieved during cross-validation: 0.352000\n"
     ]
    }
   ],
   "source": [
    "# Use the validation set to tune hyperparameters (regularization strength and\n",
    "# learning rate). You should experiment with different ranges for the learning\n",
    "# rates and regularization strengths; if you are careful you should be able to\n",
    "# get a classification accuracy of over 0.35 on the validation set.\n",
    "from cs231n.classifiers import Softmax\n",
    "results = {}\n",
    "best_val = -1\n",
    "best_softmax = None\n",
    "learning_rates = [1e-7, 5e-7]\n",
    "regularization_strengths = [2.5e4, 5e4]\n",
    "\n",
    "################################################################################\n",
    "# TODO:                                                                        #\n",
    "# Use the validation set to set the learning rate and regularization strength. #\n",
    "# This should be identical to the validation that you did for the SVM; save    #\n",
    "# the best trained softmax classifer in best_softmax.                          #\n",
    "################################################################################\n",
    "for rate in learning_rates:\n",
    "\n",
    "    for reg in regularization_strengths:\n",
    "            softmax = Softmax()\n",
    "            softmax.train(X_train, y_train, learning_rate=rate, reg=reg,\n",
    "                          num_iters=1500, verbose=True)\n",
    "            y_train_pred = svm.predict(X_train) \n",
    "            y_val_pred = svm.predict(X_val)\n",
    "            training_accuracy = np.mean(y_train == y_train_pred)\n",
    "            validation_accuracy = np.mean(y_val == y_val_pred)\n",
    "            results[(rate, reg)] = (training_accuracy, validation_accuracy)\n",
    "            if validation_accuracy > best_val:\n",
    "                best_softmax = softmax\n",
    "                best_val = validation_accuracy\n",
    "################################################################################\n",
    "#                              END OF YOUR CODE                                #\n",
    "################################################################################\n",
    "    \n",
    "# Print out results.\n",
    "for lr, reg in sorted(results):\n",
    "    train_accuracy, val_accuracy = results[(lr, reg)]\n",
    "    print('lr %e reg %e train accuracy: %f val accuracy: %f' % (\n",
    "                lr, reg, train_accuracy, val_accuracy))\n",
    "    \n",
    "print('best validation accuracy achieved during cross-validation: %f' % best_val)"
   ]
  },
  {
   "cell_type": "code",
   "execution_count": 96,
   "metadata": {},
   "outputs": [
    {
     "name": "stdout",
     "output_type": "stream",
     "text": [
      "softmax on raw pixels final test set accuracy: 0.355000\n"
     ]
    }
   ],
   "source": [
    "# evaluate on test set\n",
    "# Evaluate the best softmax on test set\n",
    "y_test_pred = best_softmax.predict(X_test)\n",
    "test_accuracy = np.mean(y_test == y_test_pred)\n",
    "print('softmax on raw pixels final test set accuracy: %f' % (test_accuracy, ))"
   ]
  },
  {
   "cell_type": "code",
   "execution_count": 97,
   "metadata": {},
   "outputs": [
    {
     "data": {
      "image/png": "[encoded data removed]",
      "text/plain": [
       "<matplotlib.figure.Figure at 0x22607f80828>"
      ]
     },
     "metadata": {},
     "output_type": "display_data"
    }
   ],
   "source": [
    "# Visualize the learned weights for each class\n",
    "w = best_softmax.W[:-1,:] # strip out the bias\n",
    "w = w.reshape(32, 32, 3, 10)\n",
    "\n",
    "w_min, w_max = np.min(w), np.max(w)\n",
    "\n",
    "classes = ['plane', 'car', 'bird', 'cat', 'deer', 'dog', 'frog', 'horse', 'ship', 'truck']\n",
    "for i in range(10):\n",
    "    plt.subplot(2, 5, i + 1)\n",
    "    \n",
    "    # Rescale the weights to be between 0 and 255\n",
    "    wimg = 255.0 * (w[:, :, :, i].squeeze() - w_min) / (w_max - w_min)\n",
    "    plt.imshow(wimg.astype('uint8'))\n",
    "    plt.axis('off')\n",
    "    plt.title(classes[i])"
   ]
  },
  {
   "cell_type": "code",
   "execution_count": null,
   "metadata": {},
   "outputs": [],
   "source": []
  }
 ],
 "metadata": {
  "kernelspec": {
   "display_name": "Python 3",
   "language": "python",
   "name": "python3"
  },
  "language_info": {
   "codemirror_mode": {
    "name": "ipython",
    "version": 3
   },
   "file_extension": ".py",
   "mimetype": "text/x-python",
   "name": "python",
   "nbconvert_exporter": "python",
   "pygments_lexer": "ipython3",
   "version": "3.6.2"
  }
 },
 "nbformat": 4,
 "nbformat_minor": 1
}
